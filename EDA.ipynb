for column in df.columns:
    plt.figure(figsize=(6, 4))  
    sns.boxplot(data=df[[column]]) 
    plt.title(f'Boxplot of {column}')
    plt.tight_layout()  
    plt.show()
