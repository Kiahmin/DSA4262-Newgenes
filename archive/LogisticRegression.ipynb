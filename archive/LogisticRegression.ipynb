{
 "cells": [
  {
   "cell_type": "markdown",
   "metadata": {},
   "source": [
    "### Load Data \n"
   ]
  },
  {
   "cell_type": "markdown",
   "metadata": {},
   "source": [
    "pacakage to install\n",
    "- pandas\n",
    "- scikit-learn\n",
    "- imblearn"
   ]
  },
  {
   "cell_type": "code",
   "execution_count": 2,
   "metadata": {},
   "outputs": [
    {
     "name": "stdout",
     "output_type": "stream",
     "text": [
      "     transcript_id  position flanking_nucleotide  dwelling_time_(-1)  \\\n",
      "0  ENST00000000233       244             AAGACCA             0.00299   \n",
      "1  ENST00000000233       244             AAGACCA             0.00631   \n",
      "2  ENST00000000233       244             AAGACCA             0.00465   \n",
      "3  ENST00000000233       244             AAGACCA             0.00398   \n",
      "4  ENST00000000233       244             AAGACCA             0.00664   \n",
      "\n",
      "   std_dev_(-1)  mean_signal_(-1)  dwelling_time_central  std_dev_central  \\\n",
      "0          2.06             125.0                0.01770            10.40   \n",
      "1          2.53             125.0                0.00844             4.67   \n",
      "2          3.92             109.0                0.01360            12.00   \n",
      "3          2.06             125.0                0.00830             5.01   \n",
      "4          2.92             120.0                0.00266             3.94   \n",
      "\n",
      "   mean_signal_central  dwelling_time_(+1)  std_dev_(+1)  mean_signal_(+1)  \n",
      "0                122.0             0.00930         10.90              84.1  \n",
      "1                126.0             0.01030          6.30              80.9  \n",
      "2                124.0             0.00498          2.13              79.6  \n",
      "3                130.0             0.00498          3.78              80.4  \n",
      "4                129.0             0.01300          7.15              82.2  \n"
     ]
    }
   ],
   "source": [
    "import pandas as pd\n",
    "import numpy as np\n",
    "\n",
    "data_df = pd.read_csv(\"../data/parsed_data.csv\")\n",
    "\n",
    "print(data_df.head())\n"
   ]
  },
  {
   "cell_type": "code",
   "execution_count": 3,
   "metadata": {},
   "outputs": [
    {
     "name": "stdout",
     "output_type": "stream",
     "text": [
      "           gene_id    transcript_id  position  label\n",
      "0  ENSG00000004059  ENST00000000233       244      0\n",
      "1  ENSG00000004059  ENST00000000233       261      0\n",
      "2  ENSG00000004059  ENST00000000233       316      0\n",
      "3  ENSG00000004059  ENST00000000233       332      0\n",
      "4  ENSG00000004059  ENST00000000233       368      0\n"
     ]
    }
   ],
   "source": [
    "## load label df\n",
    "def label_parsing(file_path):\n",
    "    data = []\n",
    "    with open(file_path, 'r') as f:\n",
    "        # first line is variable names\n",
    "        var_name = f.readline()\n",
    "        for line in f:\n",
    "            gene_id, transcript_id, position, label = line.strip().split(',')\n",
    "            data.append({\n",
    "                'gene_id': gene_id,\n",
    "                'transcript_id': transcript_id,\n",
    "                'position': int(position),\n",
    "                'label': int(label)\n",
    "            })\n",
    "    return pd.DataFrame(data, columns=['gene_id', 'transcript_id', 'position', 'label'])\n",
    "\n",
    "label_df = label_parsing(\"../data/data.info.labelled\")\n",
    "\n",
    "print(label_df.head())"
   ]
  },
  {
   "cell_type": "markdown",
   "metadata": {},
   "source": [
    "### Train test split\n"
   ]
  },
  {
   "cell_type": "code",
   "execution_count": 4,
   "metadata": {},
   "outputs": [
    {
     "name": "stdout",
     "output_type": "stream",
     "text": [
      "     transcript_id  position flanking_nucleotide  dwelling_time_(-1)  \\\n",
      "0  ENST00000000233       244             AAGACCA             0.00299   \n",
      "1  ENST00000000233       244             AAGACCA             0.00631   \n",
      "2  ENST00000000233       244             AAGACCA             0.00465   \n",
      "3  ENST00000000233       244             AAGACCA             0.00398   \n",
      "4  ENST00000000233       244             AAGACCA             0.00664   \n",
      "\n",
      "   std_dev_(-1)  mean_signal_(-1)  dwelling_time_central  std_dev_central  \\\n",
      "0          2.06             125.0                0.01770            10.40   \n",
      "1          2.53             125.0                0.00844             4.67   \n",
      "2          3.92             109.0                0.01360            12.00   \n",
      "3          2.06             125.0                0.00830             5.01   \n",
      "4          2.92             120.0                0.00266             3.94   \n",
      "\n",
      "   mean_signal_central  dwelling_time_(+1)  std_dev_(+1)  mean_signal_(+1)  \n",
      "0                122.0             0.00930         10.90              84.1  \n",
      "1                126.0             0.01030          6.30              80.9  \n",
      "2                124.0             0.00498          2.13              79.6  \n",
      "3                130.0             0.00498          3.78              80.4  \n",
      "4                129.0             0.01300          7.15              82.2  \n",
      "        transcript_id  position flanking_nucleotide  dwelling_time_(-1)  \\\n",
      "6041  ENST00000002165        35             AGGACAG              0.0113   \n",
      "6042  ENST00000002165        35             AGGACAG              0.0315   \n",
      "6043  ENST00000002165        35             AGGACAG              0.0116   \n",
      "6044  ENST00000002165        35             AGGACAG              0.0103   \n",
      "6045  ENST00000002165        35             AGGACAG              0.0110   \n",
      "\n",
      "      std_dev_(-1)  mean_signal_(-1)  dwelling_time_central  std_dev_central  \\\n",
      "6041          7.53             114.0                0.01100             6.39   \n",
      "6042          6.04             116.0                0.00830             8.88   \n",
      "6043          7.30             113.0                0.00565             4.62   \n",
      "6044          7.40             117.0                0.00564             7.21   \n",
      "6045          8.55             118.0                0.00598             4.33   \n",
      "\n",
      "      mean_signal_central  dwelling_time_(+1)  std_dev_(+1)  mean_signal_(+1)  \n",
      "6041                119.0             0.00863          4.02              84.9  \n",
      "6042                119.0             0.00437          2.35              81.8  \n",
      "6043                122.0             0.00864          2.68              81.8  \n",
      "6044                118.0             0.00398          1.13              87.4  \n",
      "6045                124.0             0.00693          2.11              81.7  \n",
      "417952\n",
      "145064\n"
     ]
    }
   ],
   "source": [
    "from sklearn.model_selection import train_test_split\n",
    "unique_genes = label_df['gene_id'].unique()\n",
    "train_genes, test_genes = train_test_split(unique_genes, test_size=0.2, random_state=49)\n",
    "train_transcript = label_df[label_df['gene_id'].isin(train_genes)][\"transcript_id\"]\n",
    "test_transcript = label_df[label_df['gene_id'].isin(test_genes)][\"transcript_id\"]\n",
    "train_df = data_df[data_df['transcript_id'].isin(train_transcript)]\n",
    "test_df = data_df[data_df['transcript_id'].isin(test_transcript)]\n",
    "print(train_df.head())\n",
    "print(test_df.head())\n",
    "print(len(train_df))\n",
    "print(len(test_df))"
   ]
  },
  {
   "cell_type": "code",
   "execution_count": 5,
   "metadata": {},
   "outputs": [
    {
     "name": "stdout",
     "output_type": "stream",
     "text": [
      "     transcript_id  position flanking_nucleotide  dwelling_time_(-1)  \\\n",
      "0  ENST00000000233       244             AAGACCA             0.00299   \n",
      "1  ENST00000000233       244             AAGACCA             0.00631   \n",
      "2  ENST00000000233       244             AAGACCA             0.00465   \n",
      "3  ENST00000000233       244             AAGACCA             0.00398   \n",
      "4  ENST00000000233       244             AAGACCA             0.00664   \n",
      "\n",
      "   std_dev_(-1)  mean_signal_(-1)  dwelling_time_central  std_dev_central  \\\n",
      "0          2.06             125.0                0.01770            10.40   \n",
      "1          2.53             125.0                0.00844             4.67   \n",
      "2          3.92             109.0                0.01360            12.00   \n",
      "3          2.06             125.0                0.00830             5.01   \n",
      "4          2.92             120.0                0.00266             3.94   \n",
      "\n",
      "   mean_signal_central  dwelling_time_(+1)  std_dev_(+1)  mean_signal_(+1)  \\\n",
      "0                122.0             0.00930         10.90              84.1   \n",
      "1                126.0             0.01030          6.30              80.9   \n",
      "2                124.0             0.00498          2.13              79.6   \n",
      "3                130.0             0.00498          3.78              80.4   \n",
      "4                129.0             0.01300          7.15              82.2   \n",
      "\n",
      "   label  \n",
      "0      0  \n",
      "1      0  \n",
      "2      0  \n",
      "3      0  \n",
      "4      0  \n"
     ]
    }
   ],
   "source": [
    "## add the y label to df\n",
    "train_df = pd.merge(train_df, label_df[['transcript_id', 'position', 'label']], \n",
    "                     on=['transcript_id', 'position'], \n",
    "                     how='left')\n",
    "test_df = pd.merge(test_df, label_df[['transcript_id', 'position', 'label']], \n",
    "                     on=['transcript_id', 'position'], \n",
    "                     how='left')\n",
    "\n",
    "# Display the merged dataframe\n",
    "print(train_df.head())"
   ]
  },
  {
   "cell_type": "markdown",
   "metadata": {},
   "source": [
    "### Oversampling"
   ]
  },
  {
   "cell_type": "markdown",
   "metadata": {},
   "source": [
    "I use random oversampling here instead of SMOTE because it could generate synthetic transcript IDs and positions, which are not valid.\n"
   ]
  },
  {
   "cell_type": "code",
   "execution_count": 6,
   "metadata": {},
   "outputs": [
    {
     "name": "stdout",
     "output_type": "stream",
     "text": [
      "     transcript_id  position flanking_nucleotide  dwelling_time_(-1)  \\\n",
      "0  ENST00000000233       244             AAGACCA            0.008264   \n",
      "1  ENST00000000233       261             CAAACTG            0.006609   \n",
      "2  ENST00000000233       316             GAAACAG            0.007570   \n",
      "3  ENST00000000233       332             AGAACAT            0.010620   \n",
      "4  ENST00000000233       368             AGGACAA            0.010701   \n",
      "\n",
      "   std_dev_(-1)  mean_signal_(-1)  dwelling_time_central  std_dev_central  \\\n",
      "0      4.223784        123.702703               0.009373         7.382162   \n",
      "1      3.216424        109.681395               0.006813         3.226535   \n",
      "2      2.940541        105.475676               0.007416         3.642703   \n",
      "3      6.476350        129.355000               0.008632         2.899200   \n",
      "4      6.415051        117.924242               0.011479         5.870303   \n",
      "\n",
      "   mean_signal_central  dwelling_time_(+1)  std_dev_(+1)  mean_signal_(+1)  \\\n",
      "0           125.913514            0.007345      4.386989         80.570270   \n",
      "1           107.889535            0.007710      3.016599         94.290698   \n",
      "2            98.947027            0.007555      2.087146         89.364324   \n",
      "3            97.836500            0.006101      2.236520         89.154000   \n",
      "4           121.954545            0.010019      4.260253         85.178788   \n",
      "\n",
      "   label  \n",
      "0    0.0  \n",
      "1    0.0  \n",
      "2    0.0  \n",
      "3    0.0  \n",
      "4    0.0  \n",
      "4859\n"
     ]
    }
   ],
   "source": [
    "## find average of each position\n",
    "\n",
    "averaged_train_df = train_df.groupby(['transcript_id', 'position','flanking_nucleotide']).mean().reset_index()\n",
    "\n",
    "# Display the resulting DataFrame\n",
    "print(averaged_train_df.head())\n",
    "\n",
    "print(len(averaged_train_df))\n"
   ]
  },
  {
   "cell_type": "code",
   "execution_count": 7,
   "metadata": {},
   "outputs": [
    {
     "name": "stdout",
     "output_type": "stream",
     "text": [
      "9304\n"
     ]
    }
   ],
   "source": [
    "from imblearn.over_sampling import RandomOverSampler\n",
    "\n",
    "X = averaged_train_df.drop('label', axis=1)  # Features\n",
    "y = averaged_train_df['label']               # Target (label)\n",
    "\n",
    "# Define the oversampler\n",
    "ros = RandomOverSampler(sampling_strategy='auto', random_state=42)\n",
    "\n",
    "# Apply oversampling\n",
    "X_resampled, y_resampled = ros.fit_resample(X, y)\n",
    "\n",
    "# Combine the resampled features and labels into a new DataFrame\n",
    "resampled_train_df = pd.concat([pd.DataFrame(X_resampled, columns=X.columns), pd.Series(y_resampled, name='label')], axis=1)\n",
    "\n",
    "# Display the new shape of the resampled dataset\n",
    "print(len(resampled_train_df))\n",
    "\n"
   ]
  },
  {
   "cell_type": "markdown",
   "metadata": {},
   "source": [
    "### Feature Engineering"
   ]
  },
  {
   "cell_type": "markdown",
   "metadata": {},
   "source": [
    "#### Normalization"
   ]
  },
  {
   "cell_type": "code",
   "execution_count": 8,
   "metadata": {},
   "outputs": [
    {
     "name": "stdout",
     "output_type": "stream",
     "text": [
      "     transcript_id  position flanking_nucleotide  dwelling_time_(-1)  \\\n",
      "0  ENST00000002165        35             AGGACAG            0.587867   \n",
      "1  ENST00000002165        35             AGGACAG            4.318824   \n",
      "2  ENST00000002165        35             AGGACAG            0.643277   \n",
      "3  ENST00000002165        35             AGGACAG            0.403166   \n",
      "4  ENST00000002165        35             AGGACAG            0.532457   \n",
      "\n",
      "   std_dev_(-1)  mean_signal_(-1)  dwelling_time_central  std_dev_central  \\\n",
      "0      1.216909          0.207109               0.507504         0.259188   \n",
      "1      0.633939          0.383721               0.006674         1.060841   \n",
      "2      1.126920          0.118803              -0.484882        -0.310661   \n",
      "3      1.166046          0.472027              -0.486737         0.523187   \n",
      "4      1.615989          0.560333              -0.423669        -0.404026   \n",
      "\n",
      "   mean_signal_central  dwelling_time_(+1)  std_dev_(+1)  mean_signal_(+1)  \\\n",
      "0             0.486517            0.361893      0.595592         -0.166588   \n",
      "1             0.486517           -0.623789     -0.403478         -0.736461   \n",
      "2             0.723602            0.364207     -0.206057         -0.736461   \n",
      "3             0.407488           -0.714027     -1.133338          0.292986   \n",
      "4             0.881659           -0.031454     -0.547057         -0.754844   \n",
      "\n",
      "   label  \n",
      "0      0  \n",
      "1      0  \n",
      "2      0  \n",
      "3      0  \n",
      "4      0  \n"
     ]
    }
   ],
   "source": [
    "from sklearn.preprocessing import StandardScaler\n",
    "\n",
    "# Initialize the StandardScaler\n",
    "scaler = StandardScaler()\n",
    "\n",
    "numeric_columns = ['dwelling_time_(-1)', 'std_dev_(-1)', 'mean_signal_(-1)',\n",
    "                   'dwelling_time_central', 'std_dev_central', 'mean_signal_central',\n",
    "                   'dwelling_time_(+1)', 'std_dev_(+1)', 'mean_signal_(+1)']\n",
    "\n",
    "# Apply standardization to the numeric columns\n",
    "standardized_train_df = resampled_train_df.copy()\n",
    "standardized_train_df[numeric_columns] = scaler.fit_transform(resampled_train_df[numeric_columns])\n",
    "standardized_test_df = test_df.copy()\n",
    "standardized_test_df[numeric_columns] = scaler.fit_transform(test_df[numeric_columns])\n",
    "\n",
    "# View the standardized dataset\n",
    "print(standardized_test_df.head())"
   ]
  },
  {
   "cell_type": "markdown",
   "metadata": {},
   "source": [
    "maybe can add pca?"
   ]
  },
  {
   "cell_type": "code",
   "execution_count": 9,
   "metadata": {},
   "outputs": [],
   "source": [
    "standardized_test_df = standardized_test_df.dropna()"
   ]
  },
  {
   "cell_type": "markdown",
   "metadata": {},
   "source": [
    "### Logistic Regression\n"
   ]
  },
  {
   "cell_type": "code",
   "execution_count": 20,
   "metadata": {},
   "outputs": [
    {
     "name": "stderr",
     "output_type": "stream",
     "text": [
      "c:\\Users\\User\\AppData\\Local\\Programs\\Python\\Python311\\Lib\\site-packages\\sklearn\\linear_model\\_logistic.py:469: ConvergenceWarning: lbfgs failed to converge (status=1):\n",
      "STOP: TOTAL NO. of ITERATIONS REACHED LIMIT.\n",
      "\n",
      "Increase the number of iterations (max_iter) or scale the data as shown in:\n",
      "    https://scikit-learn.org/stable/modules/preprocessing.html\n",
      "Please also refer to the documentation for alternative solver options:\n",
      "    https://scikit-learn.org/stable/modules/linear_model.html#logistic-regression\n",
      "  n_iter_i = _check_optimize_result(\n"
     ]
    }
   ],
   "source": [
    "'''' \n",
    "from sklearn.linear_model import LogisticRegression\n",
    "from sklearn.metrics import accuracy_score, classification_report\n",
    "\n",
    "\n",
    "X_train = standardized_train_df.drop('label', axis=1)  # Features\n",
    "y_train = standardized_train_df['label'] \n",
    "X_test = standardized_test_df.drop('label', axis=1)  # Features\n",
    "y_test = standardized_test_df['label']        \n",
    "\n",
    "LogisticRegression.fit(X_train, y_train)\n",
    "\n",
    "\n",
    "# Make predictions on the test set\n",
    "y_pred = log_reg.predict(X_test)\n",
    "\n",
    "'''\n",
    "\n",
    "import pandas as pd\n",
    "from sklearn.model_selection import train_test_split\n",
    "from sklearn.linear_model import LogisticRegression\n",
    "from sklearn.metrics import accuracy_score, classification_report\n",
    "from sklearn.preprocessing import StandardScaler, LabelEncoder\n",
    "\n",
    "# Initialize LabelEncoder for 'transcript_id'\n",
    "le = LabelEncoder()\n",
    "\n",
    "'''\n",
    "# Encode the 'transcript_id' as numerical values\n",
    "standardized_train_df['transcript_id_encoded'] = le.fit_transform(standardized_train_df['transcript_id'])\n",
    "standardized_test_df['transcript_id_encoded'] = le.fit_transform(standardized_test_df['transcript_id'])\n",
    "'''\n",
    "\n",
    "# Select numeric columns for training, including 'position'\n",
    "# Drop 'transcript_id' (as it's now encoded) and 'flanking_nucleotide' (if not needed)\n",
    "X_train_label = standardized_train_df[['transcript_id', 'position','flanking_nucleotide']]\n",
    "X_train = standardized_train_df.drop(columns=['transcript_id', 'flanking_nucleotide','label'])\n",
    "y_train = standardized_train_df['label'] \n",
    "X_test_label = standardized_test_df[['transcript_id', 'position','flanking_nucleotide']]\n",
    "X_test = standardized_test_df.drop(columns=['transcript_id', 'flanking_nucleotide','label'])\n",
    "y_test = standardized_test_df['label']\n",
    "\n",
    "\n",
    "# Initialize the Logistic Regression model\n",
    "log_reg = LogisticRegression()\n",
    "\n",
    "# Train the model\n",
    "log_reg.fit(X_train, y_train)\n",
    "\n",
    "# Make predictions on the test set\n",
    "y_pred = log_reg.predict_proba(X_test)[:,1]\n",
    "\n"
   ]
  },
  {
   "cell_type": "code",
   "execution_count": 21,
   "metadata": {},
   "outputs": [
    {
     "name": "stdout",
     "output_type": "stream",
     "text": [
      "145063\n",
      "145063\n"
     ]
    }
   ],
   "source": [
    "print(len(X_test_label))\n",
    "print(len(y_pred))"
   ]
  },
  {
   "cell_type": "code",
   "execution_count": 23,
   "metadata": {},
   "outputs": [
    {
     "name": "stdout",
     "output_type": "stream",
     "text": [
      "0     35\n",
      "1     35\n",
      "2     35\n",
      "3     35\n",
      "4     35\n",
      "      ..\n",
      "95    54\n",
      "96    54\n",
      "97    54\n",
      "98    54\n",
      "99    54\n",
      "Name: position, Length: 100, dtype: int64\n"
     ]
    }
   ],
   "source": [
    "print(X_test_label['position'][:100])"
   ]
  },
  {
   "cell_type": "code",
   "execution_count": 24,
   "metadata": {},
   "outputs": [
    {
     "name": "stdout",
     "output_type": "stream",
     "text": [
      "     transcript_id  position flanking_nucleotide  probabilities\n",
      "0  ENST00000002165        35             AGGACAG       0.539107\n",
      "1  ENST00000002165        35             AGGACAG       0.700210\n",
      "2  ENST00000002165        35             AGGACAG       0.787666\n",
      "3  ENST00000002165        35             AGGACAG       0.776676\n",
      "4  ENST00000002165        35             AGGACAG       0.868113\n"
     ]
    }
   ],
   "source": [
    "# Add probabilities to the dataframe\n",
    "results = X_test_label.copy()\n",
    "results['probabilities'] = y_pred\n",
    "print(results.head())"
   ]
  },
  {
   "cell_type": "code",
   "execution_count": 28,
   "metadata": {},
   "outputs": [],
   "source": [
    "results = results.groupby(['transcript_id', 'position','flanking_nucleotide']).mean().reset_index()\n"
   ]
  },
  {
   "cell_type": "code",
   "execution_count": 30,
   "metadata": {},
   "outputs": [
    {
     "name": "stdout",
     "output_type": "stream",
     "text": [
      "     transcript_id  position flanking_nucleotide  probabilities\n",
      "0  ENST00000001008       190             ATGACAG       0.262601\n",
      "1  ENST00000001008       257             TGGACAT       0.541841\n",
      "2  ENST00000001008       270             CAAACAG       0.210099\n",
      "3  ENST00000001008       338             GGGACCG       0.704600\n",
      "4  ENST00000001008       389             TTGACTC       0.492757\n",
      "1283\n"
     ]
    }
   ],
   "source": [
    "print(results.head())\n",
    "print(len(results))"
   ]
  },
  {
   "cell_type": "code",
   "execution_count": 34,
   "metadata": {},
   "outputs": [
    {
     "name": "stdout",
     "output_type": "stream",
     "text": [
      "Accuracy: 0.5310795998979754\n",
      "AUC: 0.704132725318472\n"
     ]
    },
    {
     "data": {
      "image/png": "[encoded data removed]",
      "text/plain": [
       "<Figure size 640x480 with 1 Axes>"
      ]
     },
     "metadata": {},
     "output_type": "display_data"
    }
   ],
   "source": [
    "import matplotlib.pyplot as plt\n",
    "from sklearn.metrics import accuracy_score, roc_curve, auc, roc_auc_score\n",
    "\n",
    "y_pred_class = (y_pred >= 0.5).astype(int)\n",
    "\n",
    "# Step 4: Measure accuracy\n",
    "accuracy = accuracy_score(y_test, y_pred_class)\n",
    "print(\"Accuracy:\", accuracy)\n",
    "\n",
    "# Step 5: Compute ROC curve and AUC score\n",
    "fpr, tpr, thresholds = roc_curve(y_test, y_pred)\n",
    "roc_auc = auc(fpr, tpr)\n",
    "print(\"AUC:\", roc_auc)\n",
    "\n",
    "# Step 6: Plot ROC curve\n",
    "plt.figure()\n",
    "plt.plot(fpr, tpr, color='darkorange', lw=2, label='ROC curve (area = %0.2f)' % roc_auc)\n",
    "plt.plot([0, 1], [0, 1], color='navy', lw=2, linestyle='--')\n",
    "plt.xlim([0.0, 1.0])\n",
    "plt.ylim([0.0, 1.05])\n",
    "plt.xlabel('False Positive Rate')\n",
    "plt.ylabel('True Positive Rate')\n",
    "plt.title('Receiver Operating Characteristic')\n",
    "plt.legend(loc=\"lower right\")\n",
    "plt.show()\n"
   ]
  },
  {
   "cell_type": "code",
   "execution_count": null,
   "metadata": {},
   "outputs": [],
   "source": []
  }
 ],
 "metadata": {
  "kernelspec": {
   "display_name": "Python 3",
   "language": "python",
   "name": "python3"
  },
  "language_info": {
   "codemirror_mode": {
    "name": "ipython",
    "version": 3
   },
   "file_extension": ".py",
   "mimetype": "text/x-python",
   "name": "python",
   "nbconvert_exporter": "python",
   "pygments_lexer": "ipython3",
   "version": "3.11.4"
  }
 },
 "nbformat": 4,
 "nbformat_minor": 2
}
