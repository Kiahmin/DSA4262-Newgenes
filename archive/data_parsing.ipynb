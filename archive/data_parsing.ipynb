{
 "cells": [
  {
   "cell_type": "code",
   "execution_count": 2,
   "metadata": {},
   "outputs": [],
   "source": [
    "import json\n",
    "import pandas as pd"
   ]
  },
  {
   "cell_type": "code",
   "execution_count": 3,
   "metadata": {},
   "outputs": [],
   "source": [
    "def parse_data_to_dataframe(json_file_path):\n",
    "    rows = []\n",
    "\n",
    "    with open(json_file_path, 'r') as file:\n",
    "        for line in file:\n",
    "            data = json.loads(line)\n",
    "\n",
    "            for transcript_id, positions in data.items():\n",
    "                for position, flanking_data in positions.items():\n",
    "                    for flanking_nucleotide, features_list in flanking_data.items():\n",
    "                        for features in features_list:\n",
    "                            row = {\n",
    "                                \"transcript_id\": transcript_id,\n",
    "                                \"position\": int(position),\n",
    "                                \"flanking_nucleotide\": flanking_nucleotide,\n",
    "                                \"dwelling_time_(-1)\": features[0],\n",
    "                                \"std_dev_(-1)\": features[1],\n",
    "                                \"mean_signal_(-1)\": features[2],\n",
    "                                \"dwelling_time_central\": features[3],\n",
    "                                \"std_dev_central\": features[4],\n",
    "                                \"mean_signal_central\": features[5],\n",
    "                                \"dwelling_time_(+1)\": features[6],\n",
    "                                \"std_dev_(+1)\": features[7],\n",
    "                                \"mean_signal_(+1)\": features[8]\n",
    "                            }\n",
    "                            rows.append(row)  # Append each parsed entry to rows\n",
    "\n",
    "    df = pd.DataFrame(rows)\n",
    "    return df"
   ]
  },
  {
   "cell_type": "code",
   "execution_count": 4,
   "metadata": {},
   "outputs": [
    {
     "name": "stdout",
     "output_type": "stream",
     "text": [
      "     transcript_id  position flanking_nucleotide  dwelling_time_(-1)  \\\n",
      "0  ENST00000000233       244             AAGACCA             0.00299   \n",
      "1  ENST00000000233       244             AAGACCA             0.00631   \n",
      "2  ENST00000000233       244             AAGACCA             0.00465   \n",
      "3  ENST00000000233       244             AAGACCA             0.00398   \n",
      "4  ENST00000000233       244             AAGACCA             0.00664   \n",
      "\n",
      "   std_dev_(-1)  mean_signal_(-1)  dwelling_time_central  std_dev_central  \\\n",
      "0          2.06             125.0                0.01770            10.40   \n",
      "1          2.53             125.0                0.00844             4.67   \n",
      "2          3.92             109.0                0.01360            12.00   \n",
      "3          2.06             125.0                0.00830             5.01   \n",
      "4          2.92             120.0                0.00266             3.94   \n",
      "\n",
      "   mean_signal_central  dwelling_time_(+1)  std_dev_(+1)  mean_signal_(+1)  \n",
      "0                122.0             0.00930         10.90              84.1  \n",
      "1                126.0             0.01030          6.30              80.9  \n",
      "2                124.0             0.00498          2.13              79.6  \n",
      "3                130.0             0.00498          3.78              80.4  \n",
      "4                129.0             0.01300          7.15              82.2  \n"
     ]
    }
   ],
   "source": [
    "df = parse_data_to_dataframe('dataset0.json')\n",
    "\n",
    "print(df.head())"
   ]
  },
  {
   "cell_type": "code",
   "execution_count": null,
   "metadata": {},
   "outputs": [],
   "source": []
  }
 ],
 "metadata": {
  "kernelspec": {
   "display_name": "Python 3.9.6 64-bit",
   "language": "python",
   "name": "python3"
  },
  "language_info": {
   "codemirror_mode": {
    "name": "ipython",
    "version": 3
   },
   "file_extension": ".py",
   "mimetype": "text/x-python",
   "name": "python",
   "nbconvert_exporter": "python",
   "pygments_lexer": "ipython3",
   "version": "3.9.6"
  },
  "orig_nbformat": 4,
  "vscode": {
   "interpreter": {
    "hash": "aee8b7b246df8f9039afb4144a1f6fd8d2ca17a180786b69acc140d282b71a49"
   }
  }
 },
 "nbformat": 4,
 "nbformat_minor": 2
}
