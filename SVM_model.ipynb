{
 "cells": [
  {
   "cell_type": "code",
   "execution_count": 10,
   "metadata": {},
   "outputs": [],
   "source": [
    "import pandas as pd\n",
    "from sklearn.svm import SVC\n",
    "from sklearn.metrics import classification_report, accuracy_score, confusion_matrix\n",
    "from sklearn.preprocessing import StandardScaler\n"
   ]
  },
  {
   "cell_type": "code",
   "execution_count": 7,
   "metadata": {},
   "outputs": [],
   "source": [
    "test_weighted_df = pd.read_csv('src/test_weighted.csv')\n",
    "train_weighted_df = pd.read_csv('src/train_weighted.csv')"
   ]
  },
  {
   "cell_type": "code",
   "execution_count": 13,
   "metadata": {},
   "outputs": [
    {
     "data": {
      "text/plain": [
       "transcript_id            0\n",
       "position                 0\n",
       "flanking_nucleotide      0\n",
       "dwelling_time_(-1)       1\n",
       "mean_signal_(-1)         1\n",
       "mean_range_(-1)          1\n",
       "dwelling_time_central    1\n",
       "mean_signal_central      1\n",
       "mean_range_central       1\n",
       "dwelling_time_(+1)       1\n",
       "mean_signal_(+1)         1\n",
       "mean_range_(+1)          1\n",
       "label                    0\n",
       "dtype: int64"
      ]
     },
     "execution_count": 13,
     "metadata": {},
     "output_type": "execute_result"
    }
   ],
   "source": [
    "test_weighted_df.isna().sum()"
   ]
  },
  {
   "cell_type": "code",
   "execution_count": 14,
   "metadata": {},
   "outputs": [
    {
     "data": {
      "text/plain": [
       "transcript_id            0\n",
       "position                 0\n",
       "flanking_nucleotide      0\n",
       "dwelling_time_(-1)       0\n",
       "mean_signal_(-1)         0\n",
       "mean_range_(-1)          0\n",
       "dwelling_time_central    0\n",
       "mean_signal_central      0\n",
       "mean_range_central       0\n",
       "dwelling_time_(+1)       0\n",
       "mean_signal_(+1)         0\n",
       "mean_range_(+1)          0\n",
       "label                    0\n",
       "dtype: int64"
      ]
     },
     "execution_count": 14,
     "metadata": {},
     "output_type": "execute_result"
    }
   ],
   "source": [
    "train_weighted_df.isna().sum()"
   ]
  },
  {
   "cell_type": "code",
   "execution_count": 15,
   "metadata": {},
   "outputs": [
    {
     "data": {
      "text/plain": [
       "transcript_id            0\n",
       "position                 0\n",
       "flanking_nucleotide      0\n",
       "dwelling_time_(-1)       0\n",
       "mean_signal_(-1)         0\n",
       "mean_range_(-1)          0\n",
       "dwelling_time_central    0\n",
       "mean_signal_central      0\n",
       "mean_range_central       0\n",
       "dwelling_time_(+1)       0\n",
       "mean_signal_(+1)         0\n",
       "mean_range_(+1)          0\n",
       "label                    0\n",
       "dtype: int64"
      ]
     },
     "execution_count": 15,
     "metadata": {},
     "output_type": "execute_result"
    }
   ],
   "source": [
    "test_weighted_df = test_weighted_df.dropna()\n",
    "test_weighted_df.isna().sum()"
   ]
  },
  {
   "cell_type": "code",
   "execution_count": 16,
   "metadata": {},
   "outputs": [],
   "source": [
    "features = [\n",
    "    'position', 'dwelling_time_(-1)', 'mean_signal_(-1)', 'mean_range_(-1)',\n",
    "    'dwelling_time_central', 'mean_signal_central', 'mean_range_central',\n",
    "    'dwelling_time_(+1)', 'mean_signal_(+1)', 'mean_range_(+1)'\n",
    "]\n",
    "\n",
    "X_train = train_weighted_df[features]\n",
    "y_train = train_weighted_df['label']  # Use the correct label column for m6A\n",
    "\n",
    "X_test = test_weighted_df[features]\n",
    "y_test = test_weighted_df['label']  # Use the correct label column for m6A\n",
    "\n",
    "# Feature scaling\n",
    "scaler = StandardScaler()\n",
    "X_train_scaled = scaler.fit_transform(X_train)\n",
    "X_test_scaled = scaler.transform(X_test)"
   ]
  },
  {
   "cell_type": "code",
   "execution_count": 17,
   "metadata": {},
   "outputs": [],
   "source": [
    "# Initialize and train the SVM model\n",
    "svm_model = SVC(kernel='rbf', C=1.0, gamma='scale', random_state=42)\n",
    "svm_model.fit(X_train_scaled, y_train)\n",
    "\n",
    "# Make predictions\n",
    "y_pred = svm_model.predict(X_test_scaled)"
   ]
  },
  {
   "cell_type": "code",
   "execution_count": 18,
   "metadata": {},
   "outputs": [
    {
     "name": "stdout",
     "output_type": "stream",
     "text": [
      "Accuracy: 0.7638347622759158\n",
      "Confusion Matrix:\n",
      " [[955 283]\n",
      " [ 20  25]]\n",
      "Classification Report:\n",
      "               precision    recall  f1-score   support\n",
      "\n",
      "           0       0.98      0.77      0.86      1238\n",
      "           1       0.08      0.56      0.14        45\n",
      "\n",
      "    accuracy                           0.76      1283\n",
      "   macro avg       0.53      0.66      0.50      1283\n",
      "weighted avg       0.95      0.76      0.84      1283\n",
      "\n"
     ]
    }
   ],
   "source": [
    "# Evaluate the model\n",
    "print(\"Accuracy:\", accuracy_score(y_test, y_pred))\n",
    "print(\"Confusion Matrix:\\n\", confusion_matrix(y_test, y_pred))\n",
    "print(\"Classification Report:\\n\", classification_report(y_test, y_pred))"
   ]
  }
 ],
 "metadata": {
  "kernelspec": {
   "display_name": "Python 3.11.3 ('base')",
   "language": "python",
   "name": "python3"
  },
  "language_info": {
   "codemirror_mode": {
    "name": "ipython",
    "version": 3
   },
   "file_extension": ".py",
   "mimetype": "text/x-python",
   "name": "python",
   "nbconvert_exporter": "python",
   "pygments_lexer": "ipython3",
   "version": "3.11.3"
  },
  "orig_nbformat": 4,
  "vscode": {
   "interpreter": {
    "hash": "370ecf6f7c5ee0320f8408f227cdfb4e23501a7768b78de80ff4bbcc7484934b"
   }
  }
 },
 "nbformat": 4,
 "nbformat_minor": 2
}
